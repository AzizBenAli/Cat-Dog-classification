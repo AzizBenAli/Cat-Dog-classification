{
 "cells": [
  {
   "cell_type": "code",
   "execution_count": null,
   "metadata": {},
   "outputs": [],
   "source": [
    "import pandas as pd\n",
    "import numpy as np\n",
    "import matplotlib.pyplot as plt\n",
    "from skimage.io import imread\n",
    "from skimage.transform import rotate, resize\n",
    "import os \n",
    "from sklearn.model_selection import train_test_split\n",
    " "
   ]
  },
  {
   "cell_type": "code",
   "execution_count": null,
   "metadata": {},
   "outputs": [],
   "source": [
    "train_labels = []   \n",
    "train_images=[]\n",
    "folder_path=r\"C:\\Users\\benal\\Desktop\\ML\\ML_Projects\\CAT DOG classification\\Dog\" \n",
    "\n",
    "# Loop through each file in the specified folder\n",
    "for filename in os.listdir(folder_path):\n",
    "    # Create the complete image path\n",
    "    image_path = os.path.join(folder_path, filename)   \n",
    "    # Read the image and normalize its values to [0, 1]\n",
    "    img = imread(image_path)\n",
    "    img = img / 255\n",
    "    # Resize the image to the required shape\n",
    "    img = resize(img, output_shape=(3, 224, 224), mode='constant', anti_aliasing=True)\n",
    "    # Append the image to the list of train_images\n",
    "    train_images.append(img)\n",
    "    # Append the label 1 (for Dog) to the list of train_labels\n",
    "    train_labels.append(1)  \n",
    "\n",
    "# Convert the lists to NumPy arrays\n",
    "train_x1 = np.array(train_images)\n",
    "train_y1 = np.array(train_labels)\n",
    "\n"
   ]
  },
  {
   "cell_type": "code",
   "execution_count": null,
   "metadata": {},
   "outputs": [],
   "source": [
    "\n",
    "folder_path = r\"C:\\Users\\benal\\Desktop\\ML\\ML_Projects\\CAT DOG classification\\Cat\"  \n",
    "train_images = []   \n",
    "train_labels = []   \n",
    "\n",
    "# Loop through each file in the specified folder\n",
    "for filename in os.listdir(folder_path):\n",
    "    # Create the complete image path\n",
    "    image_path = os.path.join(folder_path, filename)   \n",
    "    # Read the image and normalize its values to [0, 1]\n",
    "    img = imread(image_path)\n",
    "    img = img / 255\n",
    "    # Resize the image to the required shape\n",
    "    img = resize(img, output_shape=(3, 224, 224), mode='constant', anti_aliasing=True)\n",
    "    # Append the image to the list of train_images\n",
    "    train_images.append(img)\n",
    "    # Append the label 0 (for Cat) to the list of train_labels\n",
    "    train_labels.append(0)   \n",
    "\n",
    "# Convert the lists to NumPy arrays\n",
    "train_x2 = np.array(train_images)\n",
    "train_y2 = np.array(train_labels) \n",
    " "
   ]
  },
  {
   "cell_type": "code",
   "execution_count": null,
   "metadata": {},
   "outputs": [],
   "source": [
    "train_x2.shape"
   ]
  },
  {
   "cell_type": "code",
   "execution_count": null,
   "metadata": {},
   "outputs": [],
   "source": [
    "train_x = np.concatenate((train_x1, train_x2), axis=0)\n",
    "train_y = np.concatenate((train_y1, train_y2), axis=0)\n",
    "random_indices = np.random.permutation(train_x.shape[0])\n",
    "train_x = train_x[random_indices]\n",
    "train_y = train_y[random_indices]\n",
    "train_x.shape"
   ]
  },
  {
   "cell_type": "code",
   "execution_count": null,
   "metadata": {},
   "outputs": [],
   "source": [
    "train_x, test_x, train_y, test_y = train_test_split(train_x, train_y, test_size=0.2, random_state=13, stratify=train_y)"
   ]
  },
  {
   "cell_type": "code",
   "execution_count": null,
   "metadata": {},
   "outputs": [],
   "source": [
    "train_x.shape"
   ]
  },
  {
   "cell_type": "code",
   "execution_count": null,
   "metadata": {},
   "outputs": [],
   "source": [
    "final_train_x = []\n",
    "final_train_y = []\n",
    "\n",
    "# Loop through each image in the original train_x dataset\n",
    "for i in range(train_x.shape[0]):\n",
    "    # Append the original image to the final_train_x list\n",
    "    final_train_x.append(train_x[i])\n",
    "    \n",
    "    # Perform image augmentation: \n",
    "    # 1. Rotate the image by 45 degrees using the 'rotate' function from an image processing library\n",
    "    # 2. Append the rotated image to the final_train_x list\n",
    "    final_train_x.append(rotate(train_x[i], angle=45, mode='wrap'))\n",
    "    \n",
    "    # 3. Flip the image left-to-right using 'np.fliplr'\n",
    "    # 4. Append the flipped image to the final_train_x list\n",
    "    final_train_x.append(np.fliplr(train_x[i]))\n",
    "    \n",
    "    # For each original image, append its corresponding label three times to the final_train_y list\n",
    "    # This ensures that the augmented images have the same label as the original image\n",
    "    for j in range(3):\n",
    "        final_train_y.append(train_y[i])\n",
    "\n",
    "# Convert the final_train_x and final_train_y lists to NumPy arrays\n",
    "train_x = np.array(final_train_x)\n",
    "train_y = np.array(final_train_y)"
   ]
  },
  {
   "cell_type": "code",
   "execution_count": null,
   "metadata": {},
   "outputs": [],
   "source": [
    "import torch\n",
    "\n",
    "# For train data\n",
    " \n",
    "train_x = torch.from_numpy(train_x)\n",
    "train_x = train_x.float()\n",
    "train_y = train_y.astype(int)\n",
    "train_y = torch.from_numpy(train_y)\n",
    "\n",
    "# For test data\n",
    " \n",
    "test_x = torch.from_numpy(test_x)\n",
    "test_x = test_x.float()\n",
    "test_y = test_y.astype(int)\n",
    "test_y = torch.from_numpy(test_y)\n",
    "train_x.shape"
   ]
  },
  {
   "cell_type": "code",
   "execution_count": null,
   "metadata": {},
   "outputs": [],
   "source": [
    "import torch.optim as optim\n",
    "import torch.nn as nn\n",
    "import torch.nn as nn\n",
    "import torchvision.models as models\n",
    "def CNN_Model(pretrained=True):\n",
    "    model = models.resnet50(pretrained=pretrained)  # Returns ResNet-50 model with weights trained on ImageNet\n",
    "    num_ftrs = model.fc.in_features  # Get the number of features output from the last fully connected layer (fc)\n",
    "    model.fc = nn.Linear(num_ftrs, 2)  # Overwrite the last fully connected layer (fc) with a custom defined layer for binary classification\n",
    "    return model\n",
    "model = CNN_Model(pretrained=True)\n",
    "\n",
    "# specify loss function (categorical cross-entropy loss)\n",
    "criterion = nn.CrossEntropyLoss() \n",
    "\n",
    "# Specify optimizer which performs Gradient Descent\n",
    "optimizer = optim.Adam(model.parameters(), lr=1e-3)\n",
    "# Decay LR by a factor of 0.1 every 7 epochs\n",
    "exp_lr_scheduler = optim.lr_scheduler.StepLR(optimizer, step_size=7, gamma=0.1) # Learning Scheduler"
   ]
  },
  {
   "cell_type": "code",
   "execution_count": null,
   "metadata": {},
   "outputs": [],
   "source": [
    "from torch.utils.data import DataLoader, TensorDataset\n",
    "\n",
    "# Create TensorDataset from train_data_tensor and train_label_tensor\n",
    "train_dataset = TensorDataset(train_x, train_y)\n",
    "\n",
    "# Create DataLoader for training data\n",
    "train_loader = DataLoader(train_dataset, batch_size=32, shuffle=True, drop_last=True)\n",
    "\n",
    "# Similarly, create TensorDataset and DataLoader for test data\n",
    "test_dataset = TensorDataset(test_x, test_y)\n",
    "test_loader = DataLoader(test_dataset, batch_size=32, shuffle=True, drop_last=True)"
   ]
  },
  {
   "cell_type": "code",
   "execution_count": null,
   "metadata": {},
   "outputs": [],
   "source": [
    "n_epochs = 10\n",
    "for epoch in range(1, n_epochs + 1):\n",
    "    model.train()\n",
    "    train_loss = 0.0\n",
    "    # Training\n",
    "    for batch_x, batch_y in train_loader:\n",
    "        if torch.cuda.is_available():\n",
    "            batch_x, batch_y = batch_x.cuda(), batch_y.cuda()\n",
    "        optimizer.zero_grad()\n",
    "        outputs = model(batch_x)\n",
    "        loss = criterion(outputs, batch_y.long())\n",
    "        loss.backward()\n",
    "        optimizer.step()\n",
    "        train_loss += loss.item() * batch_x.size(0)\n",
    "    # Calculate average training loss for the current epoch\n",
    "    train_loss /= len(train_loader.dataset)\n",
    "    print(f\"Epoch {epoch}/{n_epochs}, Training Loss: {train_loss:.4f}\")"
   ]
  },
  {
   "cell_type": "code",
   "execution_count": null,
   "metadata": {},
   "outputs": [],
   "source": [
    "model.eval()\n",
    "test_loss = 0.0\n",
    "test_pred = []\n",
    "from sklearn.metrics import accuracy_score, confusion_matrix\n",
    "permutation = torch.randperm(test_x.size()[0])\n",
    "y_pred_list = []\n",
    "y_test_list=[]\n",
    "for i in range(0,test_x.size()[0], batch_size):\n",
    "        indices = permutation[i:i+batch_size]\n",
    "        batch_x, batch_y = test_x[indices], test_y[indices]\n",
    "        if torch.cuda.is_available():\n",
    "            batch_x, batch_y = batch_x.cuda(), batch_y.cuda()\n",
    "        output = model(batch_x)\n",
    "        y_pred_test = torch.argmax(output, dim=1)\n",
    "        y_pred_list.extend(y_pred_test.squeeze().tolist())\n",
    "        y_test_list.extend(batch_y.squeeze().tolist())\n",
    "        \n",
    "accuracy = accuracy_score(y_test_list, y_pred_list)\n",
    "print(f\"Accuracy: {accuracy}\")"
   ]
  },
  {
   "cell_type": "code",
   "execution_count": null,
   "metadata": {},
   "outputs": [],
   "source": [
    "import seaborn as sns\n",
    "cm = confusion_matrix(y_test_list, y_pred_list)\n",
    "# Plot confusion matrix\n",
    "plt.figure(figsize=(10, 8))\n",
    "sns.heatmap(cm, annot=True, fmt=\"d\", cmap=\"Blues\", xticklabels=[str(i) for i in range(len(cm))],\n",
    "            yticklabels=[str(i) for i in range(len(cm))])\n",
    "plt.xlabel('Predicted Labels')\n",
    "plt.ylabel('True Labels')\n",
    "plt.title('Confusion Matrix')\n",
    "plt.savefig(\"confusion_matrix.pdf\", format=\"pdf\")\n",
    "plt.show()\n",
    "plt.close()"
   ]
  }
 ],
 "metadata": {
  "kernelspec": {
   "display_name": "Python 3",
   "language": "python",
   "name": "python3"
  },
  "language_info": {
   "codemirror_mode": {
    "name": "ipython",
    "version": 3
   },
   "file_extension": ".py",
   "mimetype": "text/x-python",
   "name": "python",
   "nbconvert_exporter": "python",
   "pygments_lexer": "ipython3",
   "version": "3.11.4"
  }
 },
 "nbformat": 4,
 "nbformat_minor": 4
}
